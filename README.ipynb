{
 "cells": [
  {
   "cell_type": "markdown",
   "id": "a9c41ff4",
   "metadata": {},
   "source": [
    "# EXPLORATION DES DONNEES DE FORD GOBIKE"
   ]
  },
  {
   "cell_type": "markdown",
   "id": "651293b3",
   "metadata": {},
   "source": [
    "## Présenté par Amen Kossi ANONWODJI"
   ]
  },
  {
   "cell_type": "markdown",
   "id": "d532bc2f",
   "metadata": {},
   "source": [
    "## Le jeu de données Ford GoBike"
   ]
  },
  {
   "cell_type": "markdown",
   "id": "33ae943b",
   "metadata": {},
   "source": [
    "Le jeu de données Ford GoBike comprend des informations sur les trajets individuels effectués dans un système de partage de vélos couvrant la grande région de la baie de San Francisco. Il contient seize (16) variables et 183412 observations. "
   ]
  },
  {
   "cell_type": "markdown",
   "id": "2faad1f4",
   "metadata": {},
   "source": [
    "## Résumé des conclusions issues de la visualisation des données de Ford GoBike"
   ]
  },
  {
   "cell_type": "markdown",
   "id": "a2cee4fd",
   "metadata": {},
   "source": [
    "L'analyse visuelle explicative des principales colonnes d'intérêt des données de Ford GoBike révèle les résultats suivants :\n",
    "- La majorité des utilisateurs des services de Ford GoBike sont des abonnés.\n",
    "- La grande partie des utilisateurs des services de Ford GoBike sont des hommes. Ensuite, viennent les femmes. Les personnes d'autres sexes n'utilisent pas vraiment les services vélo de la société Ford GoBike.\n",
    "-  Market St et San Francisco Caltrain Station 2 sont les deux premières stations de vélo de la société Ford GoBike les plus fréquentées.\n",
    "- La mojorité donc des utilisateurs uilisent plus les vélos les jours ouvrables pour se rendre au travail que les week-end.\n",
    "- Les services vélo de la sociéte Ford GoBike sont beaucoup plus utilisé le matin de 8h à 9h et l'après-midi de 17h à 18h.\n",
    "- Les clients ont une utilisation relativement faible du système de vélos en libre-service avec une légère augmentation le week-end. C'est le contraire chez les abonnés.\n",
    "- Les clients ont toujours des trajets plus longs que les abonnés."
   ]
  },
  {
   "cell_type": "markdown",
   "id": "5f35455e",
   "metadata": {},
   "source": [
    "## Informations clés pour la présentation"
   ]
  },
  {
   "cell_type": "markdown",
   "id": "222a7828",
   "metadata": {},
   "source": [
    "Pour la présentation, nous avons créer les visualisations univariées sur les principales caractéristiques comprenant des données relatives au début et à la fin d'un trajet en vélo. Nous avons créer les diagrammes en barre pour visualiser la distribution du type d'utilisateur, le diagramme circulaire pour obtenir le décompte des valeurs du genre afin de bien visualiser la distribution du genre. Nous avons montré grâce à l'histogramme sur la variable âge que la majorité des utilisateurs des services vélo ont un âge compris entre 22 et 39 ans. Pour détecter les valeurs aberrantes de la colonne âge, nous avons utiliser une boîte à moustache. Nous avons aussi utiliser le diagramme de violin pour montrer la distribution entre les utilisateurs en fonction de l'âge et du sexe."
   ]
  }
 ],
 "metadata": {
  "kernelspec": {
   "display_name": "Python 3 (ipykernel)",
   "language": "python",
   "name": "python3"
  },
  "language_info": {
   "codemirror_mode": {
    "name": "ipython",
    "version": 3
   },
   "file_extension": ".py",
   "mimetype": "text/x-python",
   "name": "python",
   "nbconvert_exporter": "python",
   "pygments_lexer": "ipython3",
   "version": "3.9.12"
  }
 },
 "nbformat": 4,
 "nbformat_minor": 5
}
